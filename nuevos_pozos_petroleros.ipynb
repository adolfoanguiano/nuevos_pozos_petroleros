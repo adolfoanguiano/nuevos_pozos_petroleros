{
 "cells": [
  {
   "cell_type": "markdown",
   "metadata": {},
   "source": [
    "¡Hola, Adolfo!\n",
    "\n",
    "Mi nombre es Tonatiuh Cruz. Me complace revisar tu proyecto hoy.\n",
    "\n",
    "Al identificar cualquier error inicialmente, simplemente los destacaré. Te animo a localizar y abordar los problemas de forma independiente como parte de tu preparación para un rol como data-scientist. En un entorno profesional, tu líder de equipo seguiría un enfoque similar. Si encuentras la tarea desafiante, proporcionaré una pista más específica en la próxima iteración.\n",
    "\n",
    "Encontrarás mis comentarios a continuación - **por favor no los muevas, modifiques o elimines**.\n",
    "\n",
    "Puedes encontrar mis comentarios en cajas verdes, amarillas o rojas como esta:\n",
    "\n",
    "<div class=\"alert alert-block alert-success\">\n",
    "<b>Comentario del revisor</b> <a class=\"tocSkip\"></a>\n",
    "\n",
    "Éxito. Todo está hecho correctamente.\n",
    "</div>\n",
    "\n",
    "<div class=\"alert alert-block alert-warning\">\n",
    "<b>Comentario del revisor</b> <a class=\"tocSkip\"></a>\n",
    "\n",
    "Observaciones. Algunas recomendaciones.\n",
    "</div>\n",
    "\n",
    "<div class=\"alert alert-block alert-danger\">\n",
    "<b>Comentario del revisor</b> <a class=\"tocSkip\"></a>\n",
    "\n",
    "Necesita corrección. El bloque requiere algunas correcciones. El trabajo no puede ser aceptado con comentarios en rojo.\n",
    "</div>\n",
    "\n",
    "Puedes responderme utilizando esto:\n",
    "\n",
    "<div class=\"alert alert-block alert-info\">\n"
   ]
  },
  {
   "cell_type": "markdown",
   "metadata": {},
   "source": [
    "<div class=\"alert alert-block alert-success\">\n",
    "<b>Review General iteración 1) </b> <a class=\"tocSkip\"></a>\n",
    "    \n",
    "Adolfo, has hecho un excelente trabajo con el desarrollo del proyecto, cada vez más cercas de convertirte en un cientifico de datos. Realizaste la carga de bases, su análisis inicial,el desarrollo de los modelos, el calculo del RMSE además lo replicate para todas la regiones y concluiste con el análisis de ganancias. Solamente te dejo algunos comentarios para complementar el análisis.\n",
    "\n",
    "Sigue con el excelente trabajo!"
   ]
  },
  {
   "cell_type": "markdown",
   "metadata": {},
   "source": [
    "# Proyecto: Selección de los mejores lugares de pozos petroleros para OilyGiant\n",
    "\n",
    "## Introducción\n",
    "\n",
    "La compañia de extracción de petróleo OilyGiant necesita encontrar **los mejores 200 lugares** para abrir pozos petroleros.\n",
    "\n",
    "Tenemos que crear un modelo para predecir el volumen de reservas en los pozos nuevos,  de los cuáles se podrán elegir los que tengan valores más altos y con ésto la región con el beneficio total más alto para los pozos seleccionados.\n"
   ]
  },
  {
   "cell_type": "markdown",
   "metadata": {},
   "source": [
    "### 1. Preparación de datos"
   ]
  },
  {
   "cell_type": "code",
   "execution_count": 27,
   "metadata": {
    "scrolled": true
   },
   "outputs": [
    {
     "name": "stdout",
     "output_type": "stream",
     "text": [
      "Región 0:\n",
      "<class 'pandas.core.frame.DataFrame'>\n",
      "RangeIndex: 100000 entries, 0 to 99999\n",
      "Data columns (total 5 columns):\n",
      " #   Column   Non-Null Count   Dtype  \n",
      "---  ------   --------------   -----  \n",
      " 0   id       100000 non-null  object \n",
      " 1   f0       100000 non-null  float64\n",
      " 2   f1       100000 non-null  float64\n",
      " 3   f2       100000 non-null  float64\n",
      " 4   product  100000 non-null  float64\n",
      "dtypes: float64(4), object(1)\n",
      "memory usage: 3.8+ MB\n",
      "None\n"
     ]
    },
    {
     "data": {
      "text/html": [
       "<div>\n",
       "<style scoped>\n",
       "    .dataframe tbody tr th:only-of-type {\n",
       "        vertical-align: middle;\n",
       "    }\n",
       "\n",
       "    .dataframe tbody tr th {\n",
       "        vertical-align: top;\n",
       "    }\n",
       "\n",
       "    .dataframe thead th {\n",
       "        text-align: right;\n",
       "    }\n",
       "</style>\n",
       "<table border=\"1\" class=\"dataframe\">\n",
       "  <thead>\n",
       "    <tr style=\"text-align: right;\">\n",
       "      <th></th>\n",
       "      <th>id</th>\n",
       "      <th>f0</th>\n",
       "      <th>f1</th>\n",
       "      <th>f2</th>\n",
       "      <th>product</th>\n",
       "    </tr>\n",
       "  </thead>\n",
       "  <tbody>\n",
       "    <tr>\n",
       "      <th>0</th>\n",
       "      <td>txEyH</td>\n",
       "      <td>0.705745</td>\n",
       "      <td>-0.497823</td>\n",
       "      <td>1.221170</td>\n",
       "      <td>105.280062</td>\n",
       "    </tr>\n",
       "    <tr>\n",
       "      <th>1</th>\n",
       "      <td>2acmU</td>\n",
       "      <td>1.334711</td>\n",
       "      <td>-0.340164</td>\n",
       "      <td>4.365080</td>\n",
       "      <td>73.037750</td>\n",
       "    </tr>\n",
       "    <tr>\n",
       "      <th>2</th>\n",
       "      <td>409Wp</td>\n",
       "      <td>1.022732</td>\n",
       "      <td>0.151990</td>\n",
       "      <td>1.419926</td>\n",
       "      <td>85.265647</td>\n",
       "    </tr>\n",
       "    <tr>\n",
       "      <th>3</th>\n",
       "      <td>iJLyR</td>\n",
       "      <td>-0.032172</td>\n",
       "      <td>0.139033</td>\n",
       "      <td>2.978566</td>\n",
       "      <td>168.620776</td>\n",
       "    </tr>\n",
       "    <tr>\n",
       "      <th>4</th>\n",
       "      <td>Xdl7t</td>\n",
       "      <td>1.988431</td>\n",
       "      <td>0.155413</td>\n",
       "      <td>4.751769</td>\n",
       "      <td>154.036647</td>\n",
       "    </tr>\n",
       "  </tbody>\n",
       "</table>\n",
       "</div>"
      ],
      "text/plain": [
       "      id        f0        f1        f2     product\n",
       "0  txEyH  0.705745 -0.497823  1.221170  105.280062\n",
       "1  2acmU  1.334711 -0.340164  4.365080   73.037750\n",
       "2  409Wp  1.022732  0.151990  1.419926   85.265647\n",
       "3  iJLyR -0.032172  0.139033  2.978566  168.620776\n",
       "4  Xdl7t  1.988431  0.155413  4.751769  154.036647"
      ]
     },
     "metadata": {},
     "output_type": "display_data"
    },
    {
     "name": "stdout",
     "output_type": "stream",
     "text": [
      "\n",
      "Región 1:\n",
      "<class 'pandas.core.frame.DataFrame'>\n",
      "RangeIndex: 100000 entries, 0 to 99999\n",
      "Data columns (total 5 columns):\n",
      " #   Column   Non-Null Count   Dtype  \n",
      "---  ------   --------------   -----  \n",
      " 0   id       100000 non-null  object \n",
      " 1   f0       100000 non-null  float64\n",
      " 2   f1       100000 non-null  float64\n",
      " 3   f2       100000 non-null  float64\n",
      " 4   product  100000 non-null  float64\n",
      "dtypes: float64(4), object(1)\n",
      "memory usage: 3.8+ MB\n",
      "None\n"
     ]
    },
    {
     "data": {
      "text/html": [
       "<div>\n",
       "<style scoped>\n",
       "    .dataframe tbody tr th:only-of-type {\n",
       "        vertical-align: middle;\n",
       "    }\n",
       "\n",
       "    .dataframe tbody tr th {\n",
       "        vertical-align: top;\n",
       "    }\n",
       "\n",
       "    .dataframe thead th {\n",
       "        text-align: right;\n",
       "    }\n",
       "</style>\n",
       "<table border=\"1\" class=\"dataframe\">\n",
       "  <thead>\n",
       "    <tr style=\"text-align: right;\">\n",
       "      <th></th>\n",
       "      <th>id</th>\n",
       "      <th>f0</th>\n",
       "      <th>f1</th>\n",
       "      <th>f2</th>\n",
       "      <th>product</th>\n",
       "    </tr>\n",
       "  </thead>\n",
       "  <tbody>\n",
       "    <tr>\n",
       "      <th>0</th>\n",
       "      <td>kBEdx</td>\n",
       "      <td>-15.001348</td>\n",
       "      <td>-8.276000</td>\n",
       "      <td>-0.005876</td>\n",
       "      <td>3.179103</td>\n",
       "    </tr>\n",
       "    <tr>\n",
       "      <th>1</th>\n",
       "      <td>62mP7</td>\n",
       "      <td>14.272088</td>\n",
       "      <td>-3.475083</td>\n",
       "      <td>0.999183</td>\n",
       "      <td>26.953261</td>\n",
       "    </tr>\n",
       "    <tr>\n",
       "      <th>2</th>\n",
       "      <td>vyE1P</td>\n",
       "      <td>6.263187</td>\n",
       "      <td>-5.948386</td>\n",
       "      <td>5.001160</td>\n",
       "      <td>134.766305</td>\n",
       "    </tr>\n",
       "    <tr>\n",
       "      <th>3</th>\n",
       "      <td>KcrkZ</td>\n",
       "      <td>-13.081196</td>\n",
       "      <td>-11.506057</td>\n",
       "      <td>4.999415</td>\n",
       "      <td>137.945408</td>\n",
       "    </tr>\n",
       "    <tr>\n",
       "      <th>4</th>\n",
       "      <td>AHL4O</td>\n",
       "      <td>12.702195</td>\n",
       "      <td>-8.147433</td>\n",
       "      <td>5.004363</td>\n",
       "      <td>134.766305</td>\n",
       "    </tr>\n",
       "  </tbody>\n",
       "</table>\n",
       "</div>"
      ],
      "text/plain": [
       "      id         f0         f1        f2     product\n",
       "0  kBEdx -15.001348  -8.276000 -0.005876    3.179103\n",
       "1  62mP7  14.272088  -3.475083  0.999183   26.953261\n",
       "2  vyE1P   6.263187  -5.948386  5.001160  134.766305\n",
       "3  KcrkZ -13.081196 -11.506057  4.999415  137.945408\n",
       "4  AHL4O  12.702195  -8.147433  5.004363  134.766305"
      ]
     },
     "metadata": {},
     "output_type": "display_data"
    },
    {
     "name": "stdout",
     "output_type": "stream",
     "text": [
      "\n",
      "Región 2:\n",
      "<class 'pandas.core.frame.DataFrame'>\n",
      "RangeIndex: 100000 entries, 0 to 99999\n",
      "Data columns (total 5 columns):\n",
      " #   Column   Non-Null Count   Dtype  \n",
      "---  ------   --------------   -----  \n",
      " 0   id       100000 non-null  object \n",
      " 1   f0       100000 non-null  float64\n",
      " 2   f1       100000 non-null  float64\n",
      " 3   f2       100000 non-null  float64\n",
      " 4   product  100000 non-null  float64\n",
      "dtypes: float64(4), object(1)\n",
      "memory usage: 3.8+ MB\n",
      "None\n"
     ]
    },
    {
     "data": {
      "text/html": [
       "<div>\n",
       "<style scoped>\n",
       "    .dataframe tbody tr th:only-of-type {\n",
       "        vertical-align: middle;\n",
       "    }\n",
       "\n",
       "    .dataframe tbody tr th {\n",
       "        vertical-align: top;\n",
       "    }\n",
       "\n",
       "    .dataframe thead th {\n",
       "        text-align: right;\n",
       "    }\n",
       "</style>\n",
       "<table border=\"1\" class=\"dataframe\">\n",
       "  <thead>\n",
       "    <tr style=\"text-align: right;\">\n",
       "      <th></th>\n",
       "      <th>id</th>\n",
       "      <th>f0</th>\n",
       "      <th>f1</th>\n",
       "      <th>f2</th>\n",
       "      <th>product</th>\n",
       "    </tr>\n",
       "  </thead>\n",
       "  <tbody>\n",
       "    <tr>\n",
       "      <th>0</th>\n",
       "      <td>fwXo0</td>\n",
       "      <td>-1.146987</td>\n",
       "      <td>0.963328</td>\n",
       "      <td>-0.828965</td>\n",
       "      <td>27.758673</td>\n",
       "    </tr>\n",
       "    <tr>\n",
       "      <th>1</th>\n",
       "      <td>WJtFt</td>\n",
       "      <td>0.262778</td>\n",
       "      <td>0.269839</td>\n",
       "      <td>-2.530187</td>\n",
       "      <td>56.069697</td>\n",
       "    </tr>\n",
       "    <tr>\n",
       "      <th>2</th>\n",
       "      <td>ovLUW</td>\n",
       "      <td>0.194587</td>\n",
       "      <td>0.289035</td>\n",
       "      <td>-5.586433</td>\n",
       "      <td>62.871910</td>\n",
       "    </tr>\n",
       "    <tr>\n",
       "      <th>3</th>\n",
       "      <td>q6cA6</td>\n",
       "      <td>2.236060</td>\n",
       "      <td>-0.553760</td>\n",
       "      <td>0.930038</td>\n",
       "      <td>114.572842</td>\n",
       "    </tr>\n",
       "    <tr>\n",
       "      <th>4</th>\n",
       "      <td>WPMUX</td>\n",
       "      <td>-0.515993</td>\n",
       "      <td>1.716266</td>\n",
       "      <td>5.899011</td>\n",
       "      <td>149.600746</td>\n",
       "    </tr>\n",
       "  </tbody>\n",
       "</table>\n",
       "</div>"
      ],
      "text/plain": [
       "      id        f0        f1        f2     product\n",
       "0  fwXo0 -1.146987  0.963328 -0.828965   27.758673\n",
       "1  WJtFt  0.262778  0.269839 -2.530187   56.069697\n",
       "2  ovLUW  0.194587  0.289035 -5.586433   62.871910\n",
       "3  q6cA6  2.236060 -0.553760  0.930038  114.572842\n",
       "4  WPMUX -0.515993  1.716266  5.899011  149.600746"
      ]
     },
     "metadata": {},
     "output_type": "display_data"
    }
   ],
   "source": [
    "# Importación de librerías\n",
    "import pandas as pd\n",
    "import numpy as np\n",
    "from sklearn.model_selection import train_test_split\n",
    "from sklearn.linear_model import LinearRegression\n",
    "from sklearn.metrics import mean_squared_error\n",
    "from sklearn.preprocessing import StandardScaler\n",
    "from scipy import stats as st\n",
    "\n",
    "# Cargar y explorar datos\n",
    "geo_data_0 = pd.read_csv('/datasets/geo_data_0.csv')\n",
    "geo_data_1 = pd.read_csv('/datasets/geo_data_1.csv')\n",
    "geo_data_2 = pd.read_csv('/datasets/geo_data_2.csv')\n",
    "\n",
    "print('Región 0:')\n",
    "print(geo_data_0.info())\n",
    "display(geo_data_0.head())\n",
    "print()\n",
    "print('Región 1:')\n",
    "print(geo_data_1.info())\n",
    "display(geo_data_1.head())\n",
    "print()\n",
    "print('Región 2:')\n",
    "print(geo_data_2.info())\n",
    "display(geo_data_2.head())"
   ]
  },
  {
   "cell_type": "markdown",
   "metadata": {},
   "source": [
    "Después de cargar los datos y explorarlos, podemos ver que los datasets estan limpios y podemos trabajar con ellos, no tienen valores nulos y el tipo de datos es correcto para cada columna."
   ]
  },
  {
   "cell_type": "markdown",
   "metadata": {},
   "source": [
    "<div class=\"alert alert-block alert-warning\">\n",
    "<b>Comentario del revisor</b> <a class=\"tocSkip\"></a>\n",
    "\n",
    "Excelente trabajo con la carga de la información y su exploración inicial.  Solamente te recomiendo un análisis de los registros duplicados que como aprendiste en cursos pasados sirve para asegurar que nuestros resultados no estarán sesgados"
   ]
  },
  {
   "cell_type": "code",
   "execution_count": 28,
   "metadata": {},
   "outputs": [
    {
     "name": "stdout",
     "output_type": "stream",
     "text": [
      "Duplicados en dataset Región 0: 0\n",
      "Duplicados en dataset Región 1: 0\n",
      "Duplicados en dataset Región 2: 0\n"
     ]
    }
   ],
   "source": [
    "# Revisamos si hay duplicados\n",
    "print('Duplicados en dataset Región 0:', geo_data_0.duplicated().sum())\n",
    "print('Duplicados en dataset Región 1:', geo_data_1.duplicated().sum())\n",
    "print('Duplicados en dataset Región 2:', geo_data_2.duplicated().sum())"
   ]
  },
  {
   "cell_type": "markdown",
   "metadata": {},
   "source": [
    "<div class=\"alert alert-block alert-info\">\n",
    "    Tienes razón, solamente verifique que no hubiera valores nulos y asumí que no había valores duplicados y que todos los datos estaban limpios. Ahora si ya verificando, puedo decir que los datasets no cuentan con valores duplicados y podemos trabajar con ellos. "
   ]
  },
  {
   "cell_type": "markdown",
   "metadata": {},
   "source": [
    "\n",
    "<div class=\"alert alert-block alert-success\">\n",
    "<b>Comentario del revisor</b> <a class=\"tocSkip\"></a>\n",
    "\n",
    "Gran trabajo con el ajuste!"
   ]
  },
  {
   "cell_type": "markdown",
   "metadata": {},
   "source": [
    "### 2. Entrenamiento y validación de modelo\n",
    "\n",
    "Se va a entrenar un modelo y se va a probar para cada una de las regiones."
   ]
  },
  {
   "cell_type": "code",
   "execution_count": 29,
   "metadata": {},
   "outputs": [],
   "source": [
    "\n",
    "# Como se va a realizar lo mismo para cada región creamos una función:\n",
    "\n",
    "\n",
    "\n",
    "def train_validate_model(data):\n",
    "    features = data[['f0', 'f1', 'f2']]\n",
    "    target = data['product']\n",
    "    X_train, X_valid, y_train, y_valid = train_test_split(features, target, test_size=0.25, random_state=12345)\n",
    "    \n",
    "    model = LinearRegression()\n",
    "    model.fit(X_train, y_train)\n",
    "    predictions = model.predict(X_valid)\n",
    "    rmse = mean_squared_error(y_valid, predictions, squared=False)\n",
    "    \n",
    "    print(f\"RMSE: {rmse:.2f}\")\n",
    "    print(f\"Media predicha: {predictions.mean():.2f}\")\n",
    "\n",
    "    \n",
    "    return model, predictions, y_valid\n",
    "\n",
    "\n"
   ]
  },
  {
   "cell_type": "markdown",
   "metadata": {},
   "source": [
    "<div class=\"alert alert-block alert-success\">\n",
    "<b>Comentario del revisor</b> <a class=\"tocSkip\"></a>\n",
    "\n",
    "Muy bien, dividiste adecuadamente los datos en entrenamiento, validación. Los dos conjuntos son muy importantes, el de validación en particular nos es útil para probar los diferentes hiperparámetros antes de hacer el testeo final con el set de prueba.\n",
    "</div>"
   ]
  },
  {
   "cell_type": "markdown",
   "metadata": {},
   "source": [
    "Entrenamos ahora para las tres regiones:\n"
   ]
  },
  {
   "cell_type": "code",
   "execution_count": 30,
   "metadata": {},
   "outputs": [
    {
     "name": "stdout",
     "output_type": "stream",
     "text": [
      "Resultados para región 0:\n",
      "RMSE: 37.58\n",
      "Media predicha: 92.59\n"
     ]
    }
   ],
   "source": [
    "\n",
    "print('Resultados para región 0:')\n",
    "model_0, predictions_0, y_valid_0 = train_validate_model(geo_data_0)\n"
   ]
  },
  {
   "cell_type": "code",
   "execution_count": 31,
   "metadata": {},
   "outputs": [
    {
     "name": "stdout",
     "output_type": "stream",
     "text": [
      "Resultados para región 1:\n",
      "RMSE: 0.89\n",
      "Media predicha: 68.73\n"
     ]
    }
   ],
   "source": [
    "\n",
    "print('Resultados para región 1:')\n",
    "model_1, predictions_1, y_valid_1 = train_validate_model(geo_data_1)\n"
   ]
  },
  {
   "cell_type": "code",
   "execution_count": 32,
   "metadata": {},
   "outputs": [
    {
     "name": "stdout",
     "output_type": "stream",
     "text": [
      "Resultados para región 2:\n",
      "RMSE: 40.03\n",
      "Media predicha: 94.97\n"
     ]
    }
   ],
   "source": [
    "\n",
    "print('Resultados para región 2:')\n",
    "model_2, predictions_2, y_valid_2 = train_validate_model(geo_data_2)\n"
   ]
  },
  {
   "cell_type": "markdown",
   "metadata": {},
   "source": [
    "Realizamos un **análisis de los resultados**:\n",
    "\n",
    "La región 1 tiene un RMSE muy bajo, lo que arroja que es el modelo que tiene una precisión muy alta, al contrario que las regiones 0 y 2, siendo asi que el modelo de la región 1 sería el más confiable.\n",
    "\n",
    "Ahora bien, por cuanto a la media, las regiones 0 y 2, muestran el mayor volumen de reservas estimadas. Sin embargo, en estas regiones no hay tanta precisión en las predicciones\n"
   ]
  },
  {
   "cell_type": "markdown",
   "metadata": {},
   "source": [
    "<div class=\"alert alert-block alert-danger\">\n",
    "<b>Comentario del revisor</b> <a class=\"tocSkip\"></a>\n",
    "\n",
    "Adolfo, implementaste el modelo de forma excelente para los 3 conjuntos de datos! En este punto ya puedes obervar cuál es el modelo con el mayor $R^2$ y menor RMSE. \n",
    "    \n",
    "Solamente recuerda complementarlo con el escalado de los datos. El escalado es muy útil para mejorar el rendimiento del modelo al asegurar que todas las características tienen el mismo rango.     \n",
    "</div>"
   ]
  },
  {
   "cell_type": "markdown",
   "metadata": {},
   "source": [
    "<div class=\"alert alert-block alert-info\">\n",
    "Importé al principio el módulo de StandardScaler y realizo a continuación la adaptación de la función con el escalado de los datos."
   ]
  },
  {
   "cell_type": "markdown",
   "metadata": {},
   "source": [
    "\n",
    "<div class=\"alert alert-block alert-success\">\n",
    "<b>Comentario del revisor</b> <a class=\"tocSkip\"></a>\n",
    "\n",
    "Gran trabajo con el ajuste!"
   ]
  },
  {
   "cell_type": "code",
   "execution_count": 35,
   "metadata": {},
   "outputs": [],
   "source": [
    "def train_validate_model_scaled(data):\n",
    "    features = data[['f0', 'f1', 'f2']]\n",
    "    target = data['product']\n",
    "    \n",
    "    X_train, X_valid, y_train, y_valid = train_test_split(features, target, test_size=0.25, random_state=12345)\n",
    "    \n",
    "    # Escalado de características\n",
    "    scaler = StandardScaler()\n",
    "    X_train_scaled = scaler.fit_transform(X_train)\n",
    "    X_valid_scaled = scaler.transform(X_valid)\n",
    "    \n",
    "    # Entrenamiento del modelo\n",
    "    model = LinearRegression()\n",
    "    model.fit(X_train_scaled, y_train)\n",
    "    predictions = model.predict(X_valid_scaled)\n",
    "    rmse = mean_squared_error(y_valid, predictions, squared=False)\n",
    "    \n",
    "    print(f\"RMSE: {rmse:.2f}\")\n",
    "    print(f\"Media predicha: {predictions.mean():.2f}\")\n",
    "    \n",
    "    return model, predictions, y_valid, scaler"
   ]
  },
  {
   "cell_type": "markdown",
   "metadata": {},
   "source": [
    "Ahora lo aplico a las tres regiones:"
   ]
  },
  {
   "cell_type": "code",
   "execution_count": 36,
   "metadata": {},
   "outputs": [
    {
     "name": "stdout",
     "output_type": "stream",
     "text": [
      "Resultados para región 0:\n",
      "RMSE: 37.58\n",
      "Media predicha: 92.59\n",
      "Resultados para región 1:\n",
      "RMSE: 0.89\n",
      "Media predicha: 68.73\n",
      "Resultados para región 2:\n",
      "RMSE: 40.03\n",
      "Media predicha: 94.97\n"
     ]
    }
   ],
   "source": [
    "print('Resultados para región 0:')\n",
    "model_0, predictions_0, y_valid_0, scaler_0 = train_validate_model_scaled(geo_data_0)\n",
    "\n",
    "print('Resultados para región 1:')\n",
    "model_1, predictions_1, y_valid_1, scaler_1 = train_validate_model_scaled(geo_data_1)\n",
    "\n",
    "print('Resultados para región 2:')\n",
    "model_2, predictions_2, y_valid_2, scaler_2 = train_validate_model_scaled(geo_data_2)"
   ]
  },
  {
   "cell_type": "markdown",
   "metadata": {},
   "source": [
    "<div class=\"alert alert-block alert-info\">\n",
    "Por suerte veo que no cambiaron los resultados, pero estaré más consciente de aplicar el escalado de datos."
   ]
  },
  {
   "cell_type": "markdown",
   "metadata": {},
   "source": [
    "### 3. Cálculo de ganancias."
   ]
  },
  {
   "cell_type": "code",
   "execution_count": 21,
   "metadata": {},
   "outputs": [],
   "source": [
    "\n",
    "# Parámetros del negocio\n",
    "BUDGET = 100_000_000\n",
    "NUM_WELLS = 200\n",
    "COST_PER_WELL = BUDGET / NUM_WELLS\n",
    "REVENUE_PER_UNIT = 4500\n",
    "MIN_UNITS_FOR_PROFIT = COST_PER_WELL / REVENUE_PER_UNIT\n",
    "\n",
    "\n"
   ]
  },
  {
   "cell_type": "markdown",
   "metadata": {},
   "source": [
    "### 4. Función para calcular ganancias.\n",
    "\n",
    "Obtenemos los valores más altos para poder tener las 200 predicciones más altas, luego vamos a sumar el total para estos 200 pozos y luego lo multiplicaremos por el ingreso por unidad."
   ]
  },
  {
   "cell_type": "code",
   "execution_count": 22,
   "metadata": {},
   "outputs": [],
   "source": [
    "\n",
    "# Función para calcular ganancias\n",
    "\n",
    "\n",
    "def calculate_profit(predictions, actuals):\n",
    "    # Obtener los índices de las 200 predicciones más altas\n",
    "    top_200_indices = np.argsort(predictions)[-200:]\n",
    "    \n",
    "    # Seleccionar los valores reales y predichos correspondientes\n",
    "    top_200_actuals = actuals.iloc[top_200_indices]\n",
    "    top_200_predictions = predictions[top_200_indices]\n",
    "    \n",
    "    # Calcular ganancias\n",
    "    total_units = top_200_actuals.sum()\n",
    "    total_predicts = top_200_predictions.sum()\n",
    "    revenue = total_units * REVENUE_PER_UNIT\n",
    "    print(f\"Ganancia estimada: ${revenue:,.2f}\")\n",
    "    print(f\"Volumen de reservas predichas: {total_predicts}\")\n",
    "    \n",
    "    # Devolver también las predicciones seleccionadas\n",
    "    return revenue, total_units, top_200_predictions\n",
    "\n",
    "\n",
    "\n"
   ]
  },
  {
   "cell_type": "markdown",
   "metadata": {},
   "source": [
    "Ahora lo aplicamos a cada una de las regiones y se almacenan las predicciones (top_200_predictions) para cada una de las 3 regiones."
   ]
  },
  {
   "cell_type": "code",
   "execution_count": 23,
   "metadata": {},
   "outputs": [
    {
     "name": "stdout",
     "output_type": "stream",
     "text": [
      "Región 0\n",
      "Ganancia estimada: $133,208,260.43\n",
      "Volumen de reservas predichas: 31102.330838811402\n"
     ]
    }
   ],
   "source": [
    "print('Región 0')\n",
    "revenue_0, units_0, top_preds_0 = calculate_profit(predictions_0, y_valid_0)"
   ]
  },
  {
   "cell_type": "code",
   "execution_count": 24,
   "metadata": {},
   "outputs": [
    {
     "name": "stdout",
     "output_type": "stream",
     "text": [
      "Región 1\n",
      "Ganancia estimada: $124,150,866.97\n",
      "Volumen de reservas predichas: 27746.026782163433\n"
     ]
    }
   ],
   "source": [
    "print('Región 1')\n",
    "revenue_1, units_1, top_preds_1 = calculate_profit(predictions_1, y_valid_1)"
   ]
  },
  {
   "cell_type": "code",
   "execution_count": 25,
   "metadata": {},
   "outputs": [
    {
     "name": "stdout",
     "output_type": "stream",
     "text": [
      "Región 2\n",
      "Ganancia estimada: $127,103,499.64\n",
      "Volumen de reservas predichas: 29603.89865831835\n"
     ]
    }
   ],
   "source": [
    "print('Región 2')\n",
    "revenue_2, units_2, top_preds_2 = calculate_profit(predictions_2, y_valid_2)"
   ]
  },
  {
   "cell_type": "markdown",
   "metadata": {},
   "source": [
    "**conclusones** de los resultados obtenidos:\n",
    "\n",
    "Podemos ver que todas las regiones generán ganancias conforme al monto de inversión, de esta manera la **región 0** tiene la **mayor ganancia** estimada y el **mayor volumen de reservas predichas**, lo que la convierte en la candidata más fuerte hasta ahora.\n",
    "\n",
    "La diferencia entre la región 0 y la región 2 es de más de $6 millones, lo cual es significativo en términos de inversión. Mi propuesta a esta altura del análisis sería la región 0 para el desarrollo de los pozos petrolíferos."
   ]
  },
  {
   "cell_type": "markdown",
   "metadata": {},
   "source": [
    "### 5. Riesgos y ganancias por región."
   ]
  },
  {
   "cell_type": "code",
   "execution_count": 11,
   "metadata": {},
   "outputs": [],
   "source": [
    "state = np.random.RandomState(12345)"
   ]
  },
  {
   "cell_type": "code",
   "execution_count": 12,
   "metadata": {},
   "outputs": [],
   "source": [
    "# Realizamos una función para despues poder aplicarla a cada región.\n",
    "\n",
    "def bootstrap_profit(predictions, actuals, n_bootstrap=1000, num_wells=NUM_WELLS, revenue_per_unit=REVENUE_PER_UNIT, budget=BUDGET):\n",
    "    profits = []\n",
    "\n",
    "    for _ in range(n_bootstrap):\n",
    "        # Selección aleatoria de 500 pozos como muestra\n",
    "        indices = state.choice(len(predictions), size=500, replace=False)\n",
    "        sample_predictions = predictions[indices]\n",
    "        sample_actuals = actuals.iloc[indices].reset_index(drop=True)\n",
    "\n",
    "        # Selección de los 200 pozos con mayor predicción\n",
    "        top_indices = sample_predictions.argsort()[-num_wells:]\n",
    "        selected_actuals = sample_actuals[top_indices]\n",
    "\n",
    "        # Cálculo de ganancia\n",
    "        total_revenue = selected_actuals.sum() * revenue_per_unit\n",
    "        profit = total_revenue - budget\n",
    "        profits.append(profit)\n",
    "\n",
    "    profits = pd.Series(profits)\n",
    "    mean_profit = profits.mean()\n",
    "    conf_interval = (profits.quantile(0.025), profits.quantile(0.975))\n",
    "    loss_risk = (profits < 0).mean() * 100\n",
    "\n",
    "    return mean_profit, conf_interval, loss_risk\n",
    "\n",
    "\n",
    "    "
   ]
  },
  {
   "cell_type": "markdown",
   "metadata": {},
   "source": [
    "y ahora lo aplicamos a cada una de las regiones"
   ]
  },
  {
   "cell_type": "code",
   "execution_count": 13,
   "metadata": {},
   "outputs": [
    {
     "name": "stdout",
     "output_type": "stream",
     "text": [
      "Región 0:\n",
      "Ganancia promedio: $3,807,108.91\n",
      "Intervalo de confianza 95%: ($-1,269,476.38, $8,796,139.68)\n",
      "Riesgo de pérdida: 7.20%\n",
      "\n"
     ]
    }
   ],
   "source": [
    "print(\"Región 0:\")\n",
    "mean_0, conf_0, risk_0 = bootstrap_profit(predictions_0, y_valid_0)\n",
    "print(f\"Ganancia promedio: ${mean_0:,.2f}\")\n",
    "print(f\"Intervalo de confianza 95%: (${conf_0[0]:,.2f}, ${conf_0[1]:,.2f})\")\n",
    "print(f\"Riesgo de pérdida: {risk_0:.2f}%\\n\")\n"
   ]
  },
  {
   "cell_type": "code",
   "execution_count": 14,
   "metadata": {},
   "outputs": [
    {
     "name": "stdout",
     "output_type": "stream",
     "text": [
      "Región 1:\n",
      "Ganancia promedio: $4,547,854.35\n",
      "Intervalo de confianza 95%: ($467,300.85, $8,402,133.56)\n",
      "Riesgo de pérdida: 1.30%\n",
      "\n"
     ]
    }
   ],
   "source": [
    "print(\"Región 1:\")\n",
    "mean_1, conf_1, risk_1 = bootstrap_profit(predictions_1, y_valid_1)\n",
    "print(f\"Ganancia promedio: ${mean_1:,.2f}\")\n",
    "print(f\"Intervalo de confianza 95%: (${conf_1[0]:,.2f}, ${conf_1[1]:,.2f})\")\n",
    "print(f\"Riesgo de pérdida: {risk_1:.2f}%\\n\")\n",
    "\n"
   ]
  },
  {
   "cell_type": "code",
   "execution_count": 15,
   "metadata": {},
   "outputs": [
    {
     "name": "stdout",
     "output_type": "stream",
     "text": [
      "Región 2:\n",
      "Ganancia promedio: $3,892,170.74\n",
      "Intervalo de confianza 95%: ($-1,156,095.66, $9,065,125.90)\n",
      "Riesgo de pérdida: 7.30%\n"
     ]
    }
   ],
   "source": [
    "print(\"Región 2:\")\n",
    "mean_2, conf_2, risk_2 = bootstrap_profit(predictions_2, y_valid_2)\n",
    "print(f\"Ganancia promedio: ${mean_2:,.2f}\")\n",
    "print(f\"Intervalo de confianza 95%: (${conf_2[0]:,.2f}, ${conf_2[1]:,.2f})\")\n",
    "print(f\"Riesgo de pérdida: {risk_2:.2f}%\")\n"
   ]
  },
  {
   "cell_type": "markdown",
   "metadata": {},
   "source": [
    "<div class=\"alert alert-block alert-success\">\n",
    "<b>Comentario del revisor</b> <a class=\"tocSkip\"></a>\n",
    "\n",
    "Muy buen trabajo con el calculo de las ganacias para cada una de las regiones. Posteriormente este resultados lo complementas con el análisis de riesgos\n"
   ]
  },
  {
   "cell_type": "markdown",
   "metadata": {},
   "source": [
    "## Conclusión y propuesta\n",
    "\n",
    "Aunque la Región 0 tuvo la mayor ganancia estimada en el paso 4, el análisis de riesgo revela que Región 1 es la única que cumple con el criterio de riesgo de pérdida inferior al 2.5%. Además, su ganancia promedio es la más alta entre las regiones que cumplen con ese umbral.\n",
    "Por lo tanto, la **Región 1** es la **opción óptima** para el desarrollo de los 200 pozos petrolíferos, ya que ofrece:\n",
    "- Ganancia promedio más elevada.\n",
    "- Riesgo de pérdida significativamente bajo.\n",
    "- Intervalo de confianza completamente positivo (sin valores negativos en el extremo inferior).\n"
   ]
  },
  {
   "cell_type": "code",
   "execution_count": null,
   "metadata": {},
   "outputs": [],
   "source": []
  }
 ],
 "metadata": {
  "kernelspec": {
   "display_name": "Python 3 (ipykernel)",
   "language": "python",
   "name": "python3"
  },
  "language_info": {
   "codemirror_mode": {
    "name": "ipython",
    "version": 3
   },
   "file_extension": ".py",
   "mimetype": "text/x-python",
   "name": "python",
   "nbconvert_exporter": "python",
   "pygments_lexer": "ipython3",
   "version": "3.9.23"
  }
 },
 "nbformat": 4,
 "nbformat_minor": 4
}
